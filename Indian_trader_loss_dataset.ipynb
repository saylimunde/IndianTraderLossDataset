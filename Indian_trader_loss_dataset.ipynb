{
 "cells": [
  {
   "cell_type": "code",
   "execution_count": 1,
   "id": "d8aa7d84-2ef2-4cbf-84cb-794eecc528e5",
   "metadata": {},
   "outputs": [],
   "source": [
    "import pandas as pd"
   ]
  },
  {
   "cell_type": "code",
   "execution_count": 2,
   "id": "78e64b56-b243-48d1-88fa-ce5a907d7c22",
   "metadata": {},
   "outputs": [],
   "source": [
    "df = pd.read_csv('Indian_Trader_Loss_Dataset.csv')"
   ]
  },
  {
   "cell_type": "code",
   "execution_count": 3,
   "id": "f2cfb5ee-e432-4987-acff-20ba89af303f",
   "metadata": {},
   "outputs": [
    {
     "data": {
      "text/html": [
       "<div>\n",
       "<style scoped>\n",
       "    .dataframe tbody tr th:only-of-type {\n",
       "        vertical-align: middle;\n",
       "    }\n",
       "\n",
       "    .dataframe tbody tr th {\n",
       "        vertical-align: top;\n",
       "    }\n",
       "\n",
       "    .dataframe thead th {\n",
       "        text-align: right;\n",
       "    }\n",
       "</style>\n",
       "<table border=\"1\" class=\"dataframe\">\n",
       "  <thead>\n",
       "    <tr style=\"text-align: right;\">\n",
       "      <th></th>\n",
       "      <th>Trader_ID</th>\n",
       "      <th>Age_Group</th>\n",
       "      <th>Investment_Type</th>\n",
       "      <th>Investment_Amount_INR</th>\n",
       "      <th>Loss_Percentage</th>\n",
       "      <th>Holding_Period</th>\n",
       "      <th>Platform_Used</th>\n",
       "      <th>Source_of_Advice</th>\n",
       "      <th>Reason_for_Loss</th>\n",
       "      <th>Recovery_Action</th>\n",
       "      <th>Emotional_State_After_Loss</th>\n",
       "      <th>Loss_Year</th>\n",
       "    </tr>\n",
       "  </thead>\n",
       "  <tbody>\n",
       "    <tr>\n",
       "      <th>0</th>\n",
       "      <td>T0001</td>\n",
       "      <td>20-30</td>\n",
       "      <td>Stock</td>\n",
       "      <td>398786</td>\n",
       "      <td>37.00</td>\n",
       "      <td>1-3 Months</td>\n",
       "      <td>Upstox</td>\n",
       "      <td>Financial Advisor</td>\n",
       "      <td>FOMO</td>\n",
       "      <td>Exited</td>\n",
       "      <td>Indifferent</td>\n",
       "      <td>2022</td>\n",
       "    </tr>\n",
       "    <tr>\n",
       "      <th>1</th>\n",
       "      <td>T0002</td>\n",
       "      <td>20-30</td>\n",
       "      <td>Stock</td>\n",
       "      <td>59123</td>\n",
       "      <td>32.49</td>\n",
       "      <td>&gt;1 Year</td>\n",
       "      <td>ICICI Direct</td>\n",
       "      <td>YouTube</td>\n",
       "      <td>Bad Timing</td>\n",
       "      <td>Averaged Down</td>\n",
       "      <td>Indifferent</td>\n",
       "      <td>2022</td>\n",
       "    </tr>\n",
       "    <tr>\n",
       "      <th>2</th>\n",
       "      <td>T0003</td>\n",
       "      <td>31-40</td>\n",
       "      <td>Mutual Fund</td>\n",
       "      <td>318944</td>\n",
       "      <td>37.26</td>\n",
       "      <td>&lt;1 Month</td>\n",
       "      <td>Upstox</td>\n",
       "      <td>Financial Advisor</td>\n",
       "      <td>Pump &amp; Dump</td>\n",
       "      <td>Still Holding</td>\n",
       "      <td>Motivated to Learn</td>\n",
       "      <td>2020</td>\n",
       "    </tr>\n",
       "    <tr>\n",
       "      <th>3</th>\n",
       "      <td>T0004</td>\n",
       "      <td>31-40</td>\n",
       "      <td>Futures &amp; Options</td>\n",
       "      <td>63587</td>\n",
       "      <td>22.42</td>\n",
       "      <td>&lt;1 Month</td>\n",
       "      <td>Groww</td>\n",
       "      <td>Instagram</td>\n",
       "      <td>Bad Timing</td>\n",
       "      <td>Still Holding</td>\n",
       "      <td>Panic</td>\n",
       "      <td>2024</td>\n",
       "    </tr>\n",
       "    <tr>\n",
       "      <th>4</th>\n",
       "      <td>T0005</td>\n",
       "      <td>51+</td>\n",
       "      <td>IPO</td>\n",
       "      <td>75444</td>\n",
       "      <td>92.85</td>\n",
       "      <td>6-12 Months</td>\n",
       "      <td>Zerodha</td>\n",
       "      <td>Self</td>\n",
       "      <td>No Stop Loss</td>\n",
       "      <td>Still Holding</td>\n",
       "      <td>Indifferent</td>\n",
       "      <td>2020</td>\n",
       "    </tr>\n",
       "  </tbody>\n",
       "</table>\n",
       "</div>"
      ],
      "text/plain": [
       "  Trader_ID Age_Group    Investment_Type  Investment_Amount_INR  \\\n",
       "0     T0001     20-30              Stock                 398786   \n",
       "1     T0002     20-30              Stock                  59123   \n",
       "2     T0003     31-40        Mutual Fund                 318944   \n",
       "3     T0004     31-40  Futures & Options                  63587   \n",
       "4     T0005       51+                IPO                  75444   \n",
       "\n",
       "   Loss_Percentage Holding_Period Platform_Used   Source_of_Advice  \\\n",
       "0            37.00     1-3 Months        Upstox  Financial Advisor   \n",
       "1            32.49        >1 Year  ICICI Direct            YouTube   \n",
       "2            37.26       <1 Month        Upstox  Financial Advisor   \n",
       "3            22.42       <1 Month         Groww          Instagram   \n",
       "4            92.85    6-12 Months       Zerodha               Self   \n",
       "\n",
       "  Reason_for_Loss Recovery_Action Emotional_State_After_Loss  Loss_Year  \n",
       "0            FOMO          Exited                Indifferent       2022  \n",
       "1      Bad Timing   Averaged Down                Indifferent       2022  \n",
       "2     Pump & Dump   Still Holding         Motivated to Learn       2020  \n",
       "3      Bad Timing   Still Holding                      Panic       2024  \n",
       "4    No Stop Loss   Still Holding                Indifferent       2020  "
      ]
     },
     "execution_count": 3,
     "metadata": {},
     "output_type": "execute_result"
    }
   ],
   "source": [
    "df.head()"
   ]
  },
  {
   "cell_type": "code",
   "execution_count": 4,
   "id": "ad50914d-7e42-40d7-9ea7-1c3413aec504",
   "metadata": {},
   "outputs": [],
   "source": [
    "#1 Top 5 Loss Reasons"
   ]
  },
  {
   "cell_type": "code",
   "execution_count": 8,
   "id": "f62c0f91-4a9d-4439-b18b-7dbdd62eae42",
   "metadata": {},
   "outputs": [
    {
     "data": {
      "text/plain": [
       "Reason_for_Loss\n",
       "Poor Research    58\n",
       "No Stop Loss     57\n",
       "FOMO             50\n",
       "Pump & Dump      50\n",
       "Bad Timing       45\n",
       "Name: count, dtype: int64"
      ]
     },
     "execution_count": 8,
     "metadata": {},
     "output_type": "execute_result"
    }
   ],
   "source": [
    "df['Reason_for_Loss'].value_counts().head(5)"
   ]
  },
  {
   "cell_type": "code",
   "execution_count": 9,
   "id": "fc4feca2-75d8-41fa-a32a-7fd474a9d3a9",
   "metadata": {},
   "outputs": [],
   "source": [
    "#2 Average Loss Percentage by Investment Type"
   ]
  },
  {
   "cell_type": "code",
   "execution_count": 11,
   "id": "d0d4f90e-f396-4def-a82f-0434711c50d3",
   "metadata": {},
   "outputs": [
    {
     "data": {
      "text/plain": [
       "53.96163333333334"
      ]
     },
     "execution_count": 11,
     "metadata": {},
     "output_type": "execute_result"
    }
   ],
   "source": [
    "df['Loss_Percentage'].mean()"
   ]
  },
  {
   "cell_type": "code",
   "execution_count": 17,
   "id": "d4d68306-6ecc-4b11-9c6d-ea2c05c1f62f",
   "metadata": {},
   "outputs": [
    {
     "data": {
      "text/plain": [
       "Investment_Type\n",
       "IPO                  56.845082\n",
       "Mutual Fund          54.171000\n",
       "Stock                53.979333\n",
       "Futures & Options    53.313607\n",
       "Crypto               51.375690\n",
       "Name: Loss_Percentage, dtype: float64"
      ]
     },
     "execution_count": 17,
     "metadata": {},
     "output_type": "execute_result"
    }
   ],
   "source": [
    "df.groupby(by='Investment_Type')['Loss_Percentage'].mean().sort_values(ascending=False)"
   ]
  },
  {
   "cell_type": "code",
   "execution_count": 18,
   "id": "9afb5133-e21f-4b95-a61a-12949e5899c2",
   "metadata": {},
   "outputs": [],
   "source": [
    "#3 Which Age Group Loses Most (Avg %)"
   ]
  },
  {
   "cell_type": "code",
   "execution_count": 25,
   "id": "3ccdfda5-7ec8-4260-a932-1a11d1d67269",
   "metadata": {},
   "outputs": [
    {
     "data": {
      "text/plain": [
       "Age_Group\n",
       "41-50    55.754638\n",
       "51+      54.176087\n",
       "20-30    54.031389\n",
       "31-40    51.745672\n",
       "Name: Loss_Percentage, dtype: float64"
      ]
     },
     "execution_count": 25,
     "metadata": {},
     "output_type": "execute_result"
    }
   ],
   "source": [
    "df.groupby(by='Age_Group')['Loss_Percentage'].mean().sort_values(ascending=False)"
   ]
  },
  {
   "cell_type": "code",
   "execution_count": 26,
   "id": "00e07019-ea88-4e25-ba9e-97e03df2e59c",
   "metadata": {},
   "outputs": [],
   "source": [
    "#4 Total Amount Lost by Platform"
   ]
  },
  {
   "cell_type": "code",
   "execution_count": 35,
   "id": "81ed4618-dda9-467a-a676-3763665ac5a7",
   "metadata": {},
   "outputs": [],
   "source": [
    "df['total_lost_amount'] = round(df['Investment_Amount_INR'] * df['Loss_Percentage']/100)"
   ]
  },
  {
   "cell_type": "code",
   "execution_count": 42,
   "id": "ee0f422a-3809-44ba-ac35-2a7a96deaf38",
   "metadata": {},
   "outputs": [
    {
     "data": {
      "text/plain": [
       "Platform_Used\n",
       "Upstox          8503323.0\n",
       "ICICI Direct    6844784.0\n",
       "Angel One       6808186.0\n",
       "Zerodha         6644460.0\n",
       "5Paisa          6242493.0\n",
       "Groww           5640468.0\n",
       "Name: total_lost_amount, dtype: float64"
      ]
     },
     "execution_count": 42,
     "metadata": {},
     "output_type": "execute_result"
    }
   ],
   "source": [
    "df.groupby('Platform_Used')['total_lost_amount'].sum().sort_values(ascending=False)"
   ]
  },
  {
   "cell_type": "code",
   "execution_count": 45,
   "id": "956bccec-bd0f-4ddf-b184-6584c884000f",
   "metadata": {},
   "outputs": [],
   "source": [
    "#5 Most Common Emotional State After Loss"
   ]
  },
  {
   "cell_type": "code",
   "execution_count": 47,
   "id": "e9a9f882-d599-4321-8369-ae837ab9caf3",
   "metadata": {},
   "outputs": [
    {
     "data": {
      "text/plain": [
       "Emotional_State_After_Loss\n",
       "Indifferent           69\n",
       "Motivated to Learn    63\n",
       "Panic                 60\n",
       "Blamed Market         58\n",
       "Depression            50\n",
       "Name: count, dtype: int64"
      ]
     },
     "execution_count": 47,
     "metadata": {},
     "output_type": "execute_result"
    }
   ],
   "source": [
    "df['Emotional_State_After_Loss'].value_counts()"
   ]
  },
  {
   "cell_type": "code",
   "execution_count": 48,
   "id": "6e23d84e-6ef4-48bf-b9ed-c73930aa6793",
   "metadata": {},
   "outputs": [],
   "source": [
    "#6 Holding Period vs Loss %"
   ]
  },
  {
   "cell_type": "code",
   "execution_count": 55,
   "id": "af477602-f836-449a-82b0-54c9f79a25ab",
   "metadata": {},
   "outputs": [
    {
     "data": {
      "text/plain": [
       "Holding_Period\n",
       "6-12 Months    56.934286\n",
       "3-6 Months     54.821967\n",
       ">1 Year        53.517727\n",
       "<1 Month       52.736538\n",
       "1-3 Months     52.024000\n",
       "Name: Loss_Percentage, dtype: float64"
      ]
     },
     "execution_count": 55,
     "metadata": {},
     "output_type": "execute_result"
    }
   ],
   "source": [
    "df.groupby('Holding_Period')['Loss_Percentage'].mean().sort_values(ascending=False)"
   ]
  },
  {
   "cell_type": "code",
   "execution_count": 56,
   "id": "b203deef-c29c-4482-9a66-7996c3b32ad6",
   "metadata": {},
   "outputs": [],
   "source": [
    "#7 Loss Trend Over Years"
   ]
  },
  {
   "cell_type": "code",
   "execution_count": 66,
   "id": "604d8e70-0382-4154-b477-1812bfe40df8",
   "metadata": {},
   "outputs": [
    {
     "data": {
      "image/png": "[encoded data removed]",
      "text/plain": [
       "<Figure size 640x480 with 1 Axes>"
      ]
     },
     "metadata": {},
     "output_type": "display_data"
    }
   ],
   "source": [
    "df.groupby(by='Loss_Year')['Loss_Percentage'].mean().plot(kind='bar',title = 'Average Loss % By Year');"
   ]
  },
  {
   "cell_type": "code",
   "execution_count": null,
   "id": "8d94e6f0-99fc-4ec9-9d90-ae829792d86d",
   "metadata": {},
   "outputs": [],
   "source": []
  }
 ],
 "metadata": {
  "kernelspec": {
   "display_name": "Python 3 (ipykernel)",
   "language": "python",
   "name": "python3"
  },
  "language_info": {
   "codemirror_mode": {
    "name": "ipython",
    "version": 3
   },
   "file_extension": ".py",
   "mimetype": "text/x-python",
   "name": "python",
   "nbconvert_exporter": "python",
   "pygments_lexer": "ipython3",
   "version": "3.12.4"
  }
 },
 "nbformat": 4,
 "nbformat_minor": 5
}
